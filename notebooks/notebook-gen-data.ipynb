{
 "cells": [
  {
   "cell_type": "code",
   "execution_count": 333,
   "id": "59eafd6c-7124-4a5d-b98f-741fa08d3eff",
   "metadata": {},
   "outputs": [],
   "source": [
    "#!pip install geopandas\n",
    "#!pip install geopy\n",
    "#!pip install shapely\n",
    "#!pip install pyproj\n",
    "#!pip install -U scikit-learn"
   ]
  },
  {
   "cell_type": "code",
   "execution_count": 1598,
   "id": "aa9b65c0-5061-434d-8f7d-c1c054550ecd",
   "metadata": {},
   "outputs": [],
   "source": [
    "import random\n",
    "import string\n",
    "import geopy.distance\n",
    "import geopandas as gpd\n",
    "import pandas as pd\n",
    "import numpy as np\n",
    "import matplotlib.patches as patches\n",
    "import matplotlib.pyplot as plt\n",
    "\n",
    "from copy import copy\n",
    "from math import radians\n",
    "from sklearn.cluster import KMeans\n",
    "from shapely.geometry import Point\n",
    "from shapely.geometry import Polygon\n",
    "from shapely.geometry import box"
   ]
  },
  {
   "cell_type": "code",
   "execution_count": 1599,
   "id": "bae6f753-b979-4561-8cc9-51b919f5b6b7",
   "metadata": {},
   "outputs": [],
   "source": [
    "number_of_demand_nodes = 30 #50\n",
    "number_of_warehouse = 6 #6\n",
    "num_skus = 100 #100\n",
    "capacity_over_demand_index = 1.2\n",
    "max_capacity_overtaken = 0.3\n",
    "track_num_of_pallets = 20\n",
    "avg_num_of_units_on_pallet = 50\n",
    "cost_per_km = 1.6 # $\n",
    "real_vs_shortest_distace = 1.4 #\n",
    "percent_of_non_zero_itemsets = 0.05"
   ]
  },
  {
   "cell_type": "code",
   "execution_count": 1600,
   "id": "d4b38b07-d156-4f87-a216-3c4dde0fe58e",
   "metadata": {},
   "outputs": [],
   "source": [
    "# columns mapping\n",
    "file_name_demand = 'demand_nodes.csv'\n",
    "col_demand_demand_node_id = 'node_id'\n",
    "col_demand_itemset_id = 'itemset_id'\n",
    "col_demand_demand_mean = 'demand_mean'\n",
    "\n",
    "file_name_itemsets = 'itemsets.csv'\n",
    "col_itemsets_itemset_id = 'itemset_id'\n",
    "col_itemsets_sku_id = 'sku_id'\n",
    "\n",
    "file_name_shipping = 'shipping.csv'\n",
    "col_shipping_source_node_id = 'source_node_id'\n",
    "col_shipping_destination_node_id = 'destination_node_id'\n",
    "col_shipping_cost = 'cost'\n",
    "\n",
    "file_name_capacity = 'supply_nodes.csv'\n",
    "col_capacity_supply_node_id = 'node_id'\n",
    "col_capacity_capacity = 'capacity'\n",
    "\n",
    "file_name_supply = 'supply.csv'\n",
    "col_supply_supply_node_id = 'node_id'\n",
    "col_supply_sku_id = 'sku_id'\n",
    "col_supply_cost = 'cost'\n",
    "col_supply_current_quantity = 'current_quantity'"
   ]
  },
  {
   "cell_type": "markdown",
   "id": "04aa9b6d-8396-40fd-bcc5-cf40fa1032be",
   "metadata": {},
   "source": [
    "# Generate nodes"
   ]
  },
  {
   "cell_type": "code",
   "execution_count": 1601,
   "id": "06b24e72-62ed-470e-a4aa-880adffb02ed",
   "metadata": {},
   "outputs": [],
   "source": [
    "def generate_random_location_within_ROI(num_pt, polygon):\n",
    "  \"\"\"\n",
    "  Generate num_pt random location coordinates .\n",
    "  :param num_pt INT number of random location coordinates\n",
    "  :param polygon geopandas.geoseries.GeoSeries the polygon of the region\n",
    "  :return x, y lists of location coordinates, longetude and latitude\n",
    "  \"\"\"\n",
    "  # define boundaries\n",
    "  bounds_all = polygon.bounds\n",
    "  minx = min(bounds_all.minx)\n",
    "  maxx = max(bounds_all.maxx)\n",
    "  miny = min(bounds_all.miny)\n",
    "  maxy = max(bounds_all.maxy)\n",
    "\n",
    "  i = 0\n",
    "  x = []\n",
    "  y = []\n",
    "  while i < num_pt:\n",
    "    # generate random location coordinates\n",
    "    x_t = np.random.uniform(minx, maxx)\n",
    "    y_t = np.random.uniform(miny, maxy)\n",
    "    # further check whether it is in the city area \n",
    "    for p in polygon:\n",
    "      if Point(x_t, y_t).within(p):\n",
    "        x.append(x_t)\n",
    "        y.append(y_t)\n",
    "        i = i + 1\n",
    "        break\n",
    "\n",
    "  return x, y"
   ]
  },
  {
   "cell_type": "code",
   "execution_count": 1602,
   "id": "ff2fd78e-f37c-42bb-82f5-9dc9ff606f6b",
   "metadata": {},
   "outputs": [],
   "source": [
    "file_shp = \"\"\"YOURE FILE WITH SHP EXTENSION\"\"\"\n",
    "plz_shape_df = gpd.read_file(\n",
    "    file_shp, \n",
    "    dtype={'plz': str})"
   ]
  },
  {
   "cell_type": "code",
   "execution_count": 1603,
   "id": "88d15f94-8cf9-41df-9ed8-1a5dc30d9af5",
   "metadata": {},
   "outputs": [
    {
     "name": "stdout",
     "output_type": "stream",
     "text": [
      "['Alabama', 'Alaska', 'American Samoa', 'Arizona', 'Arkansas', 'California', 'Colorado', 'Commonwealth of the Northern Mariana Islands', 'Connecticut', 'Delaware', 'District of Columbia', 'Florida', 'Georgia', 'Guam', 'Hawaii', 'Idaho', 'Illinois', 'Indiana', 'Iowa', 'Kansas', 'Kentucky', 'Louisiana', 'Maine', 'Maryland', 'Massachusetts', 'Michigan', 'Minnesota', 'Mississippi', 'Missouri', 'Montana', 'Nebraska', 'Nevada', 'New Hampshire', 'New Jersey', 'New Mexico', 'New York', 'North Carolina', 'North Dakota', 'Ohio', 'Oklahoma', 'Oregon', 'Pennsylvania', 'Puerto Rico', 'Rhode Island', 'South Carolina', 'South Dakota', 'Tennessee', 'Texas', 'United States Virgin Islands', 'Utah', 'Vermont', 'Virginia', 'Washington', 'West Virginia', 'Wisconsin', 'Wyoming']\n"
     ]
    }
   ],
   "source": [
    "print(sorted(list(plz_shape_df['NAME'].unique())))"
   ]
  },
  {
   "cell_type": "code",
   "execution_count": 1604,
   "id": "e8232ed6-ba52-456a-9712-5b071c746b2c",
   "metadata": {},
   "outputs": [],
   "source": [
    "list_of_regions = ['California', 'Nevada', 'Arizona']"
   ]
  },
  {
   "cell_type": "code",
   "execution_count": 1605,
   "id": "97f2f9ba-7826-4362-8a15-0616d884c45e",
   "metadata": {},
   "outputs": [
    {
     "name": "stderr",
     "output_type": "stream",
     "text": [
      "/opt/anaconda3/envs/churn-prediction-vertex-ai/lib/python3.7/site-packages/geopandas/plotting.py:51: ShapelyDeprecationWarning: The 'type' attribute is deprecated, and will be removed in the future. You can use the 'geom_type' attribute instead.\n",
      "  if geom is not None and geom.type.startswith(prefix) and not geom.is_empty:\n"
     ]
    },
    {
     "data": {
      "image/png": "[encoded data removed]",
      "text/plain": [
       "<Figure size 640x480 with 1 Axes>"
      ]
     },
     "metadata": {},
     "output_type": "display_data"
    }
   ],
   "source": [
    "ax = plz_shape_df.loc[lambda df: df[\"NAME\"].isin(list_of_regions), \"geometry\"].plot()\n",
    "\n",
    "region_store_coords = {}\n",
    "region_warehouse_coords = {}\n",
    "\n",
    "demand_nodes = {}\n",
    "warehouse = {}\n",
    "\n",
    "for region in list_of_regions:\n",
    "    region_df = plz_shape_df.query(f'NAME == \"{region}\"')\n",
    "    region_geo = region_df[\"geometry\"]\n",
    "    \n",
    "    x, y = generate_random_location_within_ROI(number_of_demand_nodes//len(list_of_regions), region_geo)\n",
    "\n",
    "    for i, point in enumerate(zip(x, y)):\n",
    "        demand_nodes[f'store_{region.lower()}_{i+1}'] = point\n",
    "    \n",
    "    model_km = KMeans(n_clusters=number_of_warehouse//len(list_of_regions))\n",
    "    model_km.fit(list(zip(x, y)))\n",
    "\n",
    "    for i, point in enumerate(model_km.cluster_centers_):\n",
    "        warehouse[f'warehouse_{region.lower()}_{i+1}'] = tuple(point)\n",
    "        \n",
    "    ax.plot(x, y, \"ro\")\n",
    "\n",
    "    ax.plot([v[0] for v in model_km.cluster_centers_], \n",
    "        [v[1] for v in model_km.cluster_centers_], \"bo\")\n",
    "plt.show()"
   ]
  },
  {
   "cell_type": "markdown",
   "id": "818aefa8-2119-46ba-9b5b-dd93957b7262",
   "metadata": {},
   "source": [
    "# Generate skus"
   ]
  },
  {
   "cell_type": "markdown",
   "id": "b1f84c59-051e-4e31-b406-541996d6e050",
   "metadata": {},
   "source": [
    "### Generate Ids"
   ]
  },
  {
   "cell_type": "code",
   "execution_count": 1606,
   "id": "c5b02dfa-2704-4e53-8721-6579f9c9cf65",
   "metadata": {},
   "outputs": [],
   "source": [
    "# generate skus\n",
    "def generate_sku(product, ppg):\n",
    "    return f\"{product}_{ppg}_\"+\"\".join(\n",
    "        [random.choice(string.digits) for i in range(3)]\n",
    "    )"
   ]
  },
  {
   "cell_type": "code",
   "execution_count": 1607,
   "id": "fdc33e65-b403-4813-9b3a-f3eb81880d33",
   "metadata": {},
   "outputs": [],
   "source": [
    "distribution_skus = {\n",
    "    'FOODS':0.7, \n",
    "    'HOUSHOLD': 0.2, \n",
    "    'HOBBIES':0.1\n",
    "}\n",
    "\n",
    "num_of_ppg = {\n",
    "    'FOODS':3, \n",
    "    'HOUSHOLD': 2, \n",
    "    'HOBBIES':1\n",
    "}\n",
    "\n",
    "uints_on_pallet_by_product_type = {\n",
    "    'FOODS': [8, 16, 32, 64, 128], \n",
    "    'HOUSHOLD': [4, 8, 16, 32, 64], \n",
    "    'HOBBIES':[1, 2, 4, 8, 16, 32]\n",
    "}\n",
    "\n",
    "weights_uints_on_pallet_by_product_type = {\n",
    "    'FOODS': [8, 15, 15, 30, 30], \n",
    "    'HOUSHOLD': [5, 8, 15, 15, 30], \n",
    "    'HOBBIES':[1, 5, 8, 15, 15, 10]\n",
    "}"
   ]
  },
  {
   "cell_type": "code",
   "execution_count": 1608,
   "id": "4ea07340-f196-429d-9453-bcf5cb648a6d",
   "metadata": {},
   "outputs": [],
   "source": [
    "sku_list = []\n",
    "sku_volume = {}\n",
    "for product, weight in distribution_skus.items():\n",
    "    num_product = int(num_skus*weight/num_of_ppg[product])\n",
    "    \n",
    "    for i in range(num_of_ppg[product]):\n",
    "        for _ in range(num_product):\n",
    "            sku = generate_sku(product, i+1)\n",
    "            sku_list.append(sku)\n",
    "            sku_volume[sku] = random.choices(\n",
    "                uints_on_pallet_by_product_type[product], \n",
    "                weights=weights_uints_on_pallet_by_product_type[product])[0]"
   ]
  },
  {
   "cell_type": "markdown",
   "id": "09f880a2-b2db-4cd3-950b-926aaed78b82",
   "metadata": {},
   "source": [
    "### Generate costs of procurement"
   ]
  },
  {
   "cell_type": "code",
   "execution_count": 1609,
   "id": "85c8bd6c-7589-49aa-8edb-9499d3bf6914",
   "metadata": {},
   "outputs": [],
   "source": [
    "cost_by_volume  = {\n",
    "    1: [50, 1000], \n",
    "    2: [50, 500], \n",
    "    4: [20, 500], \n",
    "    8: [20, 100], \n",
    "    16: [10, 100], \n",
    "    32: [5, 100], \n",
    "    64: [5, 50], \n",
    "    128: [2, 50]\n",
    "}\n",
    "\n",
    "sku_cost = {key: random.choices(range(\n",
    "                                    cost_by_volume[value][0],\n",
    "                                    cost_by_volume[value][1]\n",
    "                                ))[0]\n",
    "             for key, value in sku_volume.items()\n",
    "             }"
   ]
  },
  {
   "cell_type": "markdown",
   "id": "32f463a5-684a-45d3-98e0-e29ef3ebfdfe",
   "metadata": {},
   "source": [
    "### Generate itemsets"
   ]
  },
  {
   "cell_type": "code",
   "execution_count": 1610,
   "id": "5e353d0f-70c1-4ac8-a0c2-9f9526a485ab",
   "metadata": {},
   "outputs": [],
   "source": [
    "# generate items sets\n",
    "import itertools\n",
    "items_sets = []\n",
    "\n",
    "for element in itertools.product(sku_list, sku_list):\n",
    "    items_sets.append(tuple(set(sorted(element))))"
   ]
  },
  {
   "cell_type": "code",
   "execution_count": 1611,
   "id": "1b358e2d-e62c-4408-81b4-41bb94f93796",
   "metadata": {},
   "outputs": [],
   "source": [
    "items_sets = list(set(items_sets))"
   ]
  },
  {
   "cell_type": "code",
   "execution_count": 1612,
   "id": "d8e6b755-ed3b-4b22-86b3-c9088282e5f6",
   "metadata": {},
   "outputs": [],
   "source": [
    "items_sets_enumerated = {}\n",
    "\n",
    "for i, elements in enumerate(items_sets):\n",
    "    items_sets_enumerated[\"[\"+\", \".join(elements)+\"]\"] = elements\n",
    "\n",
    "sku_itemsets = {value: key for key, value in items_sets_enumerated.items()}"
   ]
  },
  {
   "cell_type": "code",
   "execution_count": 1613,
   "id": "827b2c3b-dcba-4ccb-819c-85d2e098b844",
   "metadata": {},
   "outputs": [],
   "source": [
    "items_sets_enumerated_list = []\n",
    "\n",
    "for key, elements in items_sets_enumerated.items():\n",
    "    for element in elements:\n",
    "        items_sets_enumerated_list.append([\"[\"+\", \".join(elements)+\"]\", element])"
   ]
  },
  {
   "cell_type": "code",
   "execution_count": 1614,
   "id": "9b501062-5ca5-4585-b250-f98c3853b8c8",
   "metadata": {},
   "outputs": [],
   "source": [
    "df_itemsets = pd.DataFrame(\n",
    "    items_sets_enumerated_list, columns=[col_itemsets_itemset_id, col_itemsets_sku_id])"
   ]
  },
  {
   "cell_type": "code",
   "execution_count": 1615,
   "id": "ab59980f-7bb4-490c-bade-8c215b5ef67a",
   "metadata": {},
   "outputs": [],
   "source": [
    "df_itemsets.to_csv(file_name_itemsets, index=False)"
   ]
  },
  {
   "cell_type": "code",
   "execution_count": 1616,
   "id": "f27214bd-b6bb-4e1d-9060-60f16c1eecf4",
   "metadata": {},
   "outputs": [
    {
     "data": {
      "text/html": [
       "<div>\n",
       "<style scoped>\n",
       "    .dataframe tbody tr th:only-of-type {\n",
       "        vertical-align: middle;\n",
       "    }\n",
       "\n",
       "    .dataframe tbody tr th {\n",
       "        vertical-align: top;\n",
       "    }\n",
       "\n",
       "    .dataframe thead th {\n",
       "        text-align: right;\n",
       "    }\n",
       "</style>\n",
       "<table border=\"1\" class=\"dataframe\">\n",
       "  <thead>\n",
       "    <tr style=\"text-align: right;\">\n",
       "      <th></th>\n",
       "      <th>itemset_id</th>\n",
       "      <th>sku_id</th>\n",
       "    </tr>\n",
       "  </thead>\n",
       "  <tbody>\n",
       "    <tr>\n",
       "      <th>0</th>\n",
       "      <td>[FOODS_2_455]</td>\n",
       "      <td>FOODS_2_455</td>\n",
       "    </tr>\n",
       "    <tr>\n",
       "      <th>1</th>\n",
       "      <td>[FOODS_1_548, FOODS_1_587]</td>\n",
       "      <td>FOODS_1_548</td>\n",
       "    </tr>\n",
       "    <tr>\n",
       "      <th>2</th>\n",
       "      <td>[FOODS_1_548, FOODS_1_587]</td>\n",
       "      <td>FOODS_1_587</td>\n",
       "    </tr>\n",
       "    <tr>\n",
       "      <th>3</th>\n",
       "      <td>[HOBBIES_1_902, FOODS_3_455]</td>\n",
       "      <td>HOBBIES_1_902</td>\n",
       "    </tr>\n",
       "    <tr>\n",
       "      <th>4</th>\n",
       "      <td>[HOBBIES_1_902, FOODS_3_455]</td>\n",
       "      <td>FOODS_3_455</td>\n",
       "    </tr>\n",
       "    <tr>\n",
       "      <th>5</th>\n",
       "      <td>[HOBBIES_1_906, FOODS_3_128]</td>\n",
       "      <td>HOBBIES_1_906</td>\n",
       "    </tr>\n",
       "    <tr>\n",
       "      <th>6</th>\n",
       "      <td>[HOBBIES_1_906, FOODS_3_128]</td>\n",
       "      <td>FOODS_3_128</td>\n",
       "    </tr>\n",
       "    <tr>\n",
       "      <th>7</th>\n",
       "      <td>[FOODS_3_154, HOUSHOLD_1_723]</td>\n",
       "      <td>FOODS_3_154</td>\n",
       "    </tr>\n",
       "    <tr>\n",
       "      <th>8</th>\n",
       "      <td>[FOODS_3_154, HOUSHOLD_1_723]</td>\n",
       "      <td>HOUSHOLD_1_723</td>\n",
       "    </tr>\n",
       "    <tr>\n",
       "      <th>9</th>\n",
       "      <td>[HOBBIES_1_305, FOODS_2_315]</td>\n",
       "      <td>HOBBIES_1_305</td>\n",
       "    </tr>\n",
       "  </tbody>\n",
       "</table>\n",
       "</div>"
      ],
      "text/plain": [
       "                      itemset_id          sku_id\n",
       "0                  [FOODS_2_455]     FOODS_2_455\n",
       "1     [FOODS_1_548, FOODS_1_587]     FOODS_1_548\n",
       "2     [FOODS_1_548, FOODS_1_587]     FOODS_1_587\n",
       "3   [HOBBIES_1_902, FOODS_3_455]   HOBBIES_1_902\n",
       "4   [HOBBIES_1_902, FOODS_3_455]     FOODS_3_455\n",
       "5   [HOBBIES_1_906, FOODS_3_128]   HOBBIES_1_906\n",
       "6   [HOBBIES_1_906, FOODS_3_128]     FOODS_3_128\n",
       "7  [FOODS_3_154, HOUSHOLD_1_723]     FOODS_3_154\n",
       "8  [FOODS_3_154, HOUSHOLD_1_723]  HOUSHOLD_1_723\n",
       "9   [HOBBIES_1_305, FOODS_2_315]   HOBBIES_1_305"
      ]
     },
     "execution_count": 1616,
     "metadata": {},
     "output_type": "execute_result"
    }
   ],
   "source": [
    "df_itemsets.head(10)"
   ]
  },
  {
   "cell_type": "markdown",
   "id": "126f68dd-a9df-4984-8305-e85bab2aa554",
   "metadata": {},
   "source": [
    "# Generate demand"
   ]
  },
  {
   "cell_type": "code",
   "execution_count": 1617,
   "id": "285df1f8-4b21-4322-b8d0-c00fc47749c5",
   "metadata": {},
   "outputs": [],
   "source": [
    "items_sets_stats_max_range = {}\n",
    "for key in items_sets:\n",
    "    if len(key) == 1:\n",
    "        if sku_cost[key[0]]>500:\n",
    "            items_sets_stats_max_range[key]= random.randint(1, 1)\n",
    "        elif sku_cost[key[0]]>100:\n",
    "            items_sets_stats_max_range[key]= random.randint(2, 10)\n",
    "        elif sku_cost[key[0]]>50:\n",
    "            items_sets_stats_max_range[key]= random.randint(10, 200)\n",
    "        else:\n",
    "            items_sets_stats_max_range[key]= random.randint(10, 500)\n",
    "    else:\n",
    "        if sku_cost[key[0]]>100 or sku_cost[key[1]]>100:\n",
    "            items_sets_stats_max_range[key] = 0\n",
    "        elif random.random()<percent_of_non_zero_itemsets:\n",
    "            items_sets_stats_max_range[key] = random.randint(0, 10)\n",
    "        else:\n",
    "            items_sets_stats_max_range[key] = 0"
   ]
  },
  {
   "cell_type": "code",
   "execution_count": 1618,
   "id": "51f0f42e-3b5d-46b9-8c78-43572ee7d84c",
   "metadata": {},
   "outputs": [],
   "source": [
    "demand_nodes_demand_itemsets = {}\n",
    "for node in demand_nodes.keys():\n",
    "    for key in items_sets:\n",
    "        demand_nodes_demand_itemsets[tuple((node,key))] = np.random.poisson(\n",
    "            items_sets_stats_max_range[key], 1)[0]"
   ]
  },
  {
   "cell_type": "code",
   "execution_count": 1619,
   "id": "a640301a-197a-497c-9ec2-e03cd25352f5",
   "metadata": {},
   "outputs": [],
   "source": [
    "demand_skus = {}\n",
    "for key, value in demand_nodes_demand_itemsets.items():\n",
    "    for item in key[1]:\n",
    "        demand_skus[item] = value + demand_skus.get(item, 0)"
   ]
  },
  {
   "cell_type": "code",
   "execution_count": 1620,
   "id": "5d2294a7-9bfe-4dd4-80f6-9948c0899204",
   "metadata": {},
   "outputs": [],
   "source": [
    "df_demand_nodes = pd.DataFrame.from_dict(\n",
    "    demand_nodes_demand_itemsets, orient='index').reset_index()\n",
    "\n",
    "df_demand_nodes[[col_demand_demand_node_id,col_demand_itemset_id]] = pd.DataFrame(\n",
    "    df_demand_nodes['index'].tolist(),index=df_demand_nodes.index)\n",
    "\n",
    "df_demand_nodes = df_demand_nodes.drop(\n",
    "    columns=['index']\n",
    ").rename(\n",
    "    {0: col_demand_demand_mean}, axis=1\n",
    ")[[col_demand_demand_node_id, col_demand_itemset_id, col_demand_demand_mean]]\n",
    "\n",
    "df_demand_nodes[col_demand_itemset_id] = df_demand_nodes[col_demand_itemset_id].apply(\n",
    "    lambda x: sku_itemsets[x])\n",
    "\n",
    "df_demand_nodes['demand_variance'] = 0"
   ]
  },
  {
   "cell_type": "code",
   "execution_count": 1621,
   "id": "ed2b1b42-05d8-4b3a-9226-d09265f2336e",
   "metadata": {},
   "outputs": [],
   "source": [
    "df_demand_nodes.to_csv(file_name_demand, index=False)"
   ]
  },
  {
   "cell_type": "code",
   "execution_count": 1622,
   "id": "15739f2c-ec4e-49e7-bb26-9fe9ad2b718a",
   "metadata": {},
   "outputs": [
    {
     "data": {
      "text/html": [
       "<div>\n",
       "<style scoped>\n",
       "    .dataframe tbody tr th:only-of-type {\n",
       "        vertical-align: middle;\n",
       "    }\n",
       "\n",
       "    .dataframe tbody tr th {\n",
       "        vertical-align: top;\n",
       "    }\n",
       "\n",
       "    .dataframe thead th {\n",
       "        text-align: right;\n",
       "    }\n",
       "</style>\n",
       "<table border=\"1\" class=\"dataframe\">\n",
       "  <thead>\n",
       "    <tr style=\"text-align: right;\">\n",
       "      <th></th>\n",
       "      <th>node_id</th>\n",
       "      <th>itemset_id</th>\n",
       "      <th>demand_mean</th>\n",
       "      <th>demand_variance</th>\n",
       "    </tr>\n",
       "  </thead>\n",
       "  <tbody>\n",
       "    <tr>\n",
       "      <th>0</th>\n",
       "      <td>store_california_1</td>\n",
       "      <td>[FOODS_2_455]</td>\n",
       "      <td>118</td>\n",
       "      <td>0</td>\n",
       "    </tr>\n",
       "    <tr>\n",
       "      <th>1</th>\n",
       "      <td>store_california_1</td>\n",
       "      <td>[FOODS_1_548, FOODS_1_587]</td>\n",
       "      <td>0</td>\n",
       "      <td>0</td>\n",
       "    </tr>\n",
       "    <tr>\n",
       "      <th>2</th>\n",
       "      <td>store_california_1</td>\n",
       "      <td>[HOBBIES_1_902, FOODS_3_455]</td>\n",
       "      <td>0</td>\n",
       "      <td>0</td>\n",
       "    </tr>\n",
       "    <tr>\n",
       "      <th>3</th>\n",
       "      <td>store_california_1</td>\n",
       "      <td>[HOBBIES_1_906, FOODS_3_128]</td>\n",
       "      <td>0</td>\n",
       "      <td>0</td>\n",
       "    </tr>\n",
       "    <tr>\n",
       "      <th>4</th>\n",
       "      <td>store_california_1</td>\n",
       "      <td>[FOODS_3_154, HOUSHOLD_1_723]</td>\n",
       "      <td>0</td>\n",
       "      <td>0</td>\n",
       "    </tr>\n",
       "    <tr>\n",
       "      <th>5</th>\n",
       "      <td>store_california_1</td>\n",
       "      <td>[HOBBIES_1_305, FOODS_2_315]</td>\n",
       "      <td>0</td>\n",
       "      <td>0</td>\n",
       "    </tr>\n",
       "    <tr>\n",
       "      <th>6</th>\n",
       "      <td>store_california_1</td>\n",
       "      <td>[HOBBIES_1_222, HOUSHOLD_2_966]</td>\n",
       "      <td>0</td>\n",
       "      <td>0</td>\n",
       "    </tr>\n",
       "    <tr>\n",
       "      <th>7</th>\n",
       "      <td>store_california_1</td>\n",
       "      <td>[FOODS_1_489, HOUSHOLD_1_769]</td>\n",
       "      <td>0</td>\n",
       "      <td>0</td>\n",
       "    </tr>\n",
       "    <tr>\n",
       "      <th>8</th>\n",
       "      <td>store_california_1</td>\n",
       "      <td>[HOUSHOLD_1_513, FOODS_2_280]</td>\n",
       "      <td>0</td>\n",
       "      <td>0</td>\n",
       "    </tr>\n",
       "    <tr>\n",
       "      <th>9</th>\n",
       "      <td>store_california_1</td>\n",
       "      <td>[FOODS_2_834, FOODS_3_879]</td>\n",
       "      <td>0</td>\n",
       "      <td>0</td>\n",
       "    </tr>\n",
       "    <tr>\n",
       "      <th>10</th>\n",
       "      <td>store_california_1</td>\n",
       "      <td>[FOODS_1_587, FOODS_3_526]</td>\n",
       "      <td>0</td>\n",
       "      <td>0</td>\n",
       "    </tr>\n",
       "    <tr>\n",
       "      <th>11</th>\n",
       "      <td>store_california_1</td>\n",
       "      <td>[FOODS_2_541, FOODS_3_656]</td>\n",
       "      <td>0</td>\n",
       "      <td>0</td>\n",
       "    </tr>\n",
       "    <tr>\n",
       "      <th>12</th>\n",
       "      <td>store_california_1</td>\n",
       "      <td>[HOBBIES_1_568, HOUSHOLD_1_783]</td>\n",
       "      <td>0</td>\n",
       "      <td>0</td>\n",
       "    </tr>\n",
       "    <tr>\n",
       "      <th>13</th>\n",
       "      <td>store_california_1</td>\n",
       "      <td>[FOODS_2_905, FOODS_2_884]</td>\n",
       "      <td>0</td>\n",
       "      <td>0</td>\n",
       "    </tr>\n",
       "    <tr>\n",
       "      <th>14</th>\n",
       "      <td>store_california_1</td>\n",
       "      <td>[FOODS_1_628]</td>\n",
       "      <td>140</td>\n",
       "      <td>0</td>\n",
       "    </tr>\n",
       "    <tr>\n",
       "      <th>15</th>\n",
       "      <td>store_california_1</td>\n",
       "      <td>[HOUSHOLD_2_928, HOBBIES_1_222]</td>\n",
       "      <td>0</td>\n",
       "      <td>0</td>\n",
       "    </tr>\n",
       "    <tr>\n",
       "      <th>16</th>\n",
       "      <td>store_california_1</td>\n",
       "      <td>[FOODS_2_790, FOODS_2_229]</td>\n",
       "      <td>0</td>\n",
       "      <td>0</td>\n",
       "    </tr>\n",
       "    <tr>\n",
       "      <th>17</th>\n",
       "      <td>store_california_1</td>\n",
       "      <td>[FOODS_1_489, FOODS_1_780]</td>\n",
       "      <td>0</td>\n",
       "      <td>0</td>\n",
       "    </tr>\n",
       "    <tr>\n",
       "      <th>18</th>\n",
       "      <td>store_california_1</td>\n",
       "      <td>[HOUSHOLD_1_559, FOODS_3_132]</td>\n",
       "      <td>0</td>\n",
       "      <td>0</td>\n",
       "    </tr>\n",
       "    <tr>\n",
       "      <th>19</th>\n",
       "      <td>store_california_1</td>\n",
       "      <td>[HOUSHOLD_1_684, HOUSHOLD_1_769]</td>\n",
       "      <td>0</td>\n",
       "      <td>0</td>\n",
       "    </tr>\n",
       "  </tbody>\n",
       "</table>\n",
       "</div>"
      ],
      "text/plain": [
       "               node_id                        itemset_id  demand_mean  \\\n",
       "0   store_california_1                     [FOODS_2_455]          118   \n",
       "1   store_california_1        [FOODS_1_548, FOODS_1_587]            0   \n",
       "2   store_california_1      [HOBBIES_1_902, FOODS_3_455]            0   \n",
       "3   store_california_1      [HOBBIES_1_906, FOODS_3_128]            0   \n",
       "4   store_california_1     [FOODS_3_154, HOUSHOLD_1_723]            0   \n",
       "5   store_california_1      [HOBBIES_1_305, FOODS_2_315]            0   \n",
       "6   store_california_1   [HOBBIES_1_222, HOUSHOLD_2_966]            0   \n",
       "7   store_california_1     [FOODS_1_489, HOUSHOLD_1_769]            0   \n",
       "8   store_california_1     [HOUSHOLD_1_513, FOODS_2_280]            0   \n",
       "9   store_california_1        [FOODS_2_834, FOODS_3_879]            0   \n",
       "10  store_california_1        [FOODS_1_587, FOODS_3_526]            0   \n",
       "11  store_california_1        [FOODS_2_541, FOODS_3_656]            0   \n",
       "12  store_california_1   [HOBBIES_1_568, HOUSHOLD_1_783]            0   \n",
       "13  store_california_1        [FOODS_2_905, FOODS_2_884]            0   \n",
       "14  store_california_1                     [FOODS_1_628]          140   \n",
       "15  store_california_1   [HOUSHOLD_2_928, HOBBIES_1_222]            0   \n",
       "16  store_california_1        [FOODS_2_790, FOODS_2_229]            0   \n",
       "17  store_california_1        [FOODS_1_489, FOODS_1_780]            0   \n",
       "18  store_california_1     [HOUSHOLD_1_559, FOODS_3_132]            0   \n",
       "19  store_california_1  [HOUSHOLD_1_684, HOUSHOLD_1_769]            0   \n",
       "\n",
       "    demand_variance  \n",
       "0                 0  \n",
       "1                 0  \n",
       "2                 0  \n",
       "3                 0  \n",
       "4                 0  \n",
       "5                 0  \n",
       "6                 0  \n",
       "7                 0  \n",
       "8                 0  \n",
       "9                 0  \n",
       "10                0  \n",
       "11                0  \n",
       "12                0  \n",
       "13                0  \n",
       "14                0  \n",
       "15                0  \n",
       "16                0  \n",
       "17                0  \n",
       "18                0  \n",
       "19                0  "
      ]
     },
     "execution_count": 1622,
     "metadata": {},
     "output_type": "execute_result"
    }
   ],
   "source": [
    "df_demand_nodes.head(20)"
   ]
  },
  {
   "cell_type": "markdown",
   "id": "def7f3b9-e0e3-4a18-84d0-b415b9594a3d",
   "metadata": {},
   "source": [
    "# Generate Capacity"
   ]
  },
  {
   "cell_type": "code",
   "execution_count": 1623,
   "id": "5f62bf69-5645-4d8b-8c15-cb4f2a0303fc",
   "metadata": {},
   "outputs": [],
   "source": [
    "total_demand_units = sum(demand_skus.values())\n",
    "total_capacity = int(capacity_over_demand_index * total_demand_units)"
   ]
  },
  {
   "cell_type": "code",
   "execution_count": 1624,
   "id": "67e9bddc-763c-4ac9-8ea3-9f552533697f",
   "metadata": {},
   "outputs": [
    {
     "name": "stdout",
     "output_type": "stream",
     "text": [
      "Total demand in units: 763861  Total capacity in warehouses: 916633\n"
     ]
    }
   ],
   "source": [
    "print(f\"Total demand in units: {total_demand_units}  Total capacity in warehouses: {total_capacity}\")"
   ]
  },
  {
   "cell_type": "markdown",
   "id": "c128758b-65cd-4bbe-8314-268caa930f8b",
   "metadata": {},
   "source": [
    "### Distribution of Capacity "
   ]
  },
  {
   "cell_type": "code",
   "execution_count": 1625,
   "id": "fa3e6ae6-adbe-419a-8fd6-95cf5b3a2fd5",
   "metadata": {},
   "outputs": [],
   "source": [
    "warehouses_capcaity_weight = []\n",
    "for weight in warehouse.keys():\n",
    "    warehouses_capcaity_weight.append(random.choice(range(5, 11)))"
   ]
  },
  {
   "cell_type": "code",
   "execution_count": 1626,
   "id": "e44ca9e4-d26f-4616-87bd-c22f8cb91078",
   "metadata": {},
   "outputs": [],
   "source": [
    "warehouses_capcaity = {}\n",
    "for i, idx in enumerate(warehouse.keys()):\n",
    "    warehouses_capcaity[idx] = int(warehouses_capcaity_weight[i]/\n",
    "                                   sum(warehouses_capcaity_weight)*\n",
    "                                   total_capacity)"
   ]
  },
  {
   "cell_type": "code",
   "execution_count": 1627,
   "id": "5bcb744c-710c-4f1c-b25e-77cef6424429",
   "metadata": {},
   "outputs": [],
   "source": [
    "df_supply_capacity = pd.DataFrame.from_dict(\n",
    "    warehouses_capcaity, orient='index').reset_index().rename(\n",
    "    {'index': col_capacity_supply_node_id, 0: col_capacity_capacity}, axis=1\n",
    ")"
   ]
  },
  {
   "cell_type": "code",
   "execution_count": 1628,
   "id": "4e45cd59-b6ec-40b3-9853-c8a4c163aebc",
   "metadata": {},
   "outputs": [],
   "source": [
    "df_supply_capacity.to_csv(file_name_capacity, index=False)"
   ]
  },
  {
   "cell_type": "code",
   "execution_count": 1629,
   "id": "f2e0b89e-5971-4390-bd16-36d58313bb62",
   "metadata": {},
   "outputs": [
    {
     "data": {
      "text/html": [
       "<div>\n",
       "<style scoped>\n",
       "    .dataframe tbody tr th:only-of-type {\n",
       "        vertical-align: middle;\n",
       "    }\n",
       "\n",
       "    .dataframe tbody tr th {\n",
       "        vertical-align: top;\n",
       "    }\n",
       "\n",
       "    .dataframe thead th {\n",
       "        text-align: right;\n",
       "    }\n",
       "</style>\n",
       "<table border=\"1\" class=\"dataframe\">\n",
       "  <thead>\n",
       "    <tr style=\"text-align: right;\">\n",
       "      <th></th>\n",
       "      <th>node_id</th>\n",
       "      <th>capacity</th>\n",
       "    </tr>\n",
       "  </thead>\n",
       "  <tbody>\n",
       "    <tr>\n",
       "      <th>0</th>\n",
       "      <td>warehouse_california_1</td>\n",
       "      <td>109122</td>\n",
       "    </tr>\n",
       "    <tr>\n",
       "      <th>1</th>\n",
       "      <td>warehouse_california_2</td>\n",
       "      <td>218245</td>\n",
       "    </tr>\n",
       "    <tr>\n",
       "      <th>2</th>\n",
       "      <td>warehouse_nevada_1</td>\n",
       "      <td>130947</td>\n",
       "    </tr>\n",
       "    <tr>\n",
       "      <th>3</th>\n",
       "      <td>warehouse_nevada_2</td>\n",
       "      <td>196421</td>\n",
       "    </tr>\n",
       "    <tr>\n",
       "      <th>4</th>\n",
       "      <td>warehouse_arizona_1</td>\n",
       "      <td>130947</td>\n",
       "    </tr>\n",
       "    <tr>\n",
       "      <th>5</th>\n",
       "      <td>warehouse_arizona_2</td>\n",
       "      <td>130947</td>\n",
       "    </tr>\n",
       "  </tbody>\n",
       "</table>\n",
       "</div>"
      ],
      "text/plain": [
       "                  node_id  capacity\n",
       "0  warehouse_california_1    109122\n",
       "1  warehouse_california_2    218245\n",
       "2      warehouse_nevada_1    130947\n",
       "3      warehouse_nevada_2    196421\n",
       "4     warehouse_arizona_1    130947\n",
       "5     warehouse_arizona_2    130947"
      ]
     },
     "execution_count": 1629,
     "metadata": {},
     "output_type": "execute_result"
    }
   ],
   "source": [
    "df_supply_capacity.head(10)"
   ]
  },
  {
   "cell_type": "markdown",
   "id": "ff12bdbf-4650-418d-b80b-bc445f6167fa",
   "metadata": {},
   "source": [
    "### Current_quantity"
   ]
  },
  {
   "cell_type": "code",
   "execution_count": 1630,
   "id": "dfcdf96f-b1a7-4720-8f74-517f860e8037",
   "metadata": {},
   "outputs": [],
   "source": [
    "werhouses_occupation_total= {\n",
    "    idx: int(warehouses_capcaity[idx]*random.random()*max_capacity_overtaken)\n",
    "    for idx in warehouse.keys()}"
   ]
  },
  {
   "cell_type": "code",
   "execution_count": 1631,
   "id": "19654f76-4e48-406b-840e-bcaaf0b783a8",
   "metadata": {},
   "outputs": [],
   "source": [
    "demand_skus_weight = {}\n",
    "for key, value in demand_skus.items():\n",
    "    demand_skus_weight[key] = value/total_demand_units"
   ]
  },
  {
   "cell_type": "code",
   "execution_count": 1632,
   "id": "e84294c3-4f53-4e92-9775-d18d4b3c9dfa",
   "metadata": {},
   "outputs": [],
   "source": [
    "werhouses_occupation_skus = {}\n",
    "\n",
    "for idx, cap in werhouses_occupation_total.items():\n",
    "    for sku, weight in demand_skus_weight.items():\n",
    "        werhouses_occupation_skus[tuple((idx, sku))] = int(weight * cap)"
   ]
  },
  {
   "cell_type": "code",
   "execution_count": 1633,
   "id": "e02b9bfb-b307-44ac-9099-dfdeea9c454c",
   "metadata": {},
   "outputs": [],
   "source": [
    "werhouses_cost_procurement_skus = {}\n",
    "\n",
    "for idx, cap in warehouses_capcaity.items():\n",
    "    for sku, cost in sku_cost.items():\n",
    "        werhouses_cost_procurement_skus[tuple((idx, sku))] = max(1, cost + cost*np.random.randn()*0.1)"
   ]
  },
  {
   "cell_type": "code",
   "execution_count": 1634,
   "id": "3e5b9d36-4483-48ef-af05-e81309b246a3",
   "metadata": {},
   "outputs": [],
   "source": [
    "df_supply_1 = pd.DataFrame.from_dict(\n",
    "    werhouses_occupation_skus, orient='index').reset_index()\n",
    "\n",
    "df_supply_1[[col_supply_supply_node_id,col_supply_sku_id]] = pd.DataFrame(\n",
    "    df_supply_1['index'].tolist(),index=df_supply_1.index)\n",
    "\n",
    "df_supply_1 = df_supply_1.drop(\n",
    "    columns=['index']\n",
    ").rename(\n",
    "    {0: col_supply_current_quantity}, axis=1\n",
    ")[[col_supply_supply_node_id, col_supply_sku_id, col_supply_current_quantity]]"
   ]
  },
  {
   "cell_type": "code",
   "execution_count": 1635,
   "id": "7268c276-757b-43fe-bbff-ad14e9d11121",
   "metadata": {},
   "outputs": [],
   "source": [
    "df_supply_2 = pd.DataFrame.from_dict(\n",
    "    werhouses_cost_procurement_skus, orient='index').reset_index()\n",
    "\n",
    "df_supply_2[[col_supply_supply_node_id,col_supply_sku_id]] = pd.DataFrame(\n",
    "    df_supply_2['index'].tolist(),index=df_supply_2.index)\n",
    "\n",
    "df_supply_2 = df_supply_2.drop(\n",
    "    columns=['index']\n",
    ").rename(\n",
    "    {0: col_supply_cost}, axis=1\n",
    ")[[col_supply_supply_node_id, col_supply_sku_id, col_supply_cost]]"
   ]
  },
  {
   "cell_type": "code",
   "execution_count": 1636,
   "id": "b870c741-9de3-4af7-9e10-d8fb7dacf617",
   "metadata": {},
   "outputs": [],
   "source": [
    "df_supply = pd.merge(\n",
    "    df_supply_1, df_supply_2,  how='left', \n",
    "    left_on=[col_supply_supply_node_id,col_supply_sku_id], \n",
    "    right_on = [col_supply_supply_node_id,col_supply_sku_id])"
   ]
  },
  {
   "cell_type": "code",
   "execution_count": 1637,
   "id": "415f36ef-a7e1-417f-8425-c0e0144f5c81",
   "metadata": {},
   "outputs": [],
   "source": [
    "df_supply.to_csv(file_name_supply, index=False)"
   ]
  },
  {
   "cell_type": "code",
   "execution_count": 1638,
   "id": "69d518bc-509e-467c-b599-3f47fb655894",
   "metadata": {},
   "outputs": [
    {
     "data": {
      "text/html": [
       "<div>\n",
       "<style scoped>\n",
       "    .dataframe tbody tr th:only-of-type {\n",
       "        vertical-align: middle;\n",
       "    }\n",
       "\n",
       "    .dataframe tbody tr th {\n",
       "        vertical-align: top;\n",
       "    }\n",
       "\n",
       "    .dataframe thead th {\n",
       "        text-align: right;\n",
       "    }\n",
       "</style>\n",
       "<table border=\"1\" class=\"dataframe\">\n",
       "  <thead>\n",
       "    <tr style=\"text-align: right;\">\n",
       "      <th></th>\n",
       "      <th>node_id</th>\n",
       "      <th>sku_id</th>\n",
       "      <th>current_quantity</th>\n",
       "      <th>cost</th>\n",
       "    </tr>\n",
       "  </thead>\n",
       "  <tbody>\n",
       "    <tr>\n",
       "      <th>0</th>\n",
       "      <td>warehouse_california_1</td>\n",
       "      <td>FOODS_2_455</td>\n",
       "      <td>85</td>\n",
       "      <td>64.139851</td>\n",
       "    </tr>\n",
       "    <tr>\n",
       "      <th>1</th>\n",
       "      <td>warehouse_california_1</td>\n",
       "      <td>FOODS_1_548</td>\n",
       "      <td>115</td>\n",
       "      <td>61.683179</td>\n",
       "    </tr>\n",
       "    <tr>\n",
       "      <th>2</th>\n",
       "      <td>warehouse_california_1</td>\n",
       "      <td>FOODS_1_587</td>\n",
       "      <td>311</td>\n",
       "      <td>25.299692</td>\n",
       "    </tr>\n",
       "    <tr>\n",
       "      <th>3</th>\n",
       "      <td>warehouse_california_1</td>\n",
       "      <td>HOBBIES_1_902</td>\n",
       "      <td>41</td>\n",
       "      <td>32.857573</td>\n",
       "    </tr>\n",
       "    <tr>\n",
       "      <th>4</th>\n",
       "      <td>warehouse_california_1</td>\n",
       "      <td>FOODS_3_455</td>\n",
       "      <td>270</td>\n",
       "      <td>22.892649</td>\n",
       "    </tr>\n",
       "  </tbody>\n",
       "</table>\n",
       "</div>"
      ],
      "text/plain": [
       "                  node_id         sku_id  current_quantity       cost\n",
       "0  warehouse_california_1    FOODS_2_455                85  64.139851\n",
       "1  warehouse_california_1    FOODS_1_548               115  61.683179\n",
       "2  warehouse_california_1    FOODS_1_587               311  25.299692\n",
       "3  warehouse_california_1  HOBBIES_1_902                41  32.857573\n",
       "4  warehouse_california_1    FOODS_3_455               270  22.892649"
      ]
     },
     "execution_count": 1638,
     "metadata": {},
     "output_type": "execute_result"
    }
   ],
   "source": [
    "df_supply.head()"
   ]
  },
  {
   "cell_type": "markdown",
   "id": "9a1767c1-1904-484c-89d7-a62e271af2b2",
   "metadata": {},
   "source": [
    "# Shipping generate"
   ]
  },
  {
   "cell_type": "code",
   "execution_count": 1639,
   "id": "5ade09c2-9bc1-415d-a845-fa762b42f3d0",
   "metadata": {},
   "outputs": [],
   "source": [
    "node_distance = {}\n",
    "for idx_w, coord_1 in warehouse.items():\n",
    "    for idx_dn, coord_2 in demand_nodes.items():\n",
    "        coord_1 = tuple((radians(coord_1[0]), radians(coord_1[1])))\n",
    "        coord_2 = tuple((radians(coord_2[0]), radians(coord_2[1])))\n",
    "\n",
    "        node_distance[tuple((idx_w, idx_dn))] = geopy.distance.distance(\n",
    "            coord_1, coord_2).km\n",
    "        "
   ]
  },
  {
   "cell_type": "code",
   "execution_count": 1640,
   "id": "2897efac-1815-4df3-b40f-5a78c5c6e8dc",
   "metadata": {},
   "outputs": [],
   "source": [
    "cost_of_unit_per_km = cost_per_km / (\n",
    "    track_num_of_pallets*avg_num_of_units_on_pallet)"
   ]
  },
  {
   "cell_type": "code",
   "execution_count": 1641,
   "id": "95e63a03-76bb-41df-adcb-cc81de30bb9a",
   "metadata": {},
   "outputs": [],
   "source": [
    "cost_shipping_distance = {}\n",
    "for key, dist in node_distance.items():\n",
    "    cost_shipping_distance[key] = dist*cost_of_unit_per_km*real_vs_shortest_distace"
   ]
  },
  {
   "cell_type": "code",
   "execution_count": 1642,
   "id": "4af6df99-7ec1-47a5-b6af-a76f3ee5f17f",
   "metadata": {},
   "outputs": [],
   "source": [
    "df_shipping = pd.DataFrame.from_dict(\n",
    "    cost_shipping_distance, orient='index').reset_index()\n",
    "\n",
    "df_shipping[[col_shipping_source_node_id,col_shipping_destination_node_id]] = pd.DataFrame(\n",
    "    df_shipping['index'].tolist(),index=df_shipping.index)\n",
    "\n",
    "df_shipping = df_shipping.drop(\n",
    "    columns=['index']\n",
    ").rename(\n",
    "    {0: col_shipping_cost}, axis=1\n",
    ")[[col_shipping_source_node_id, col_shipping_destination_node_id, col_shipping_cost]]"
   ]
  },
  {
   "cell_type": "code",
   "execution_count": 1643,
   "id": "2570791b-4639-46d8-85f5-126438b6e5cc",
   "metadata": {},
   "outputs": [],
   "source": [
    "df_shipping.to_csv(file_name_shipping, index=False)"
   ]
  },
  {
   "cell_type": "code",
   "execution_count": 1644,
   "id": "bb85ae36-ef5f-493a-bd68-3a9ce67be56e",
   "metadata": {},
   "outputs": [
    {
     "data": {
      "text/html": [
       "<div>\n",
       "<style scoped>\n",
       "    .dataframe tbody tr th:only-of-type {\n",
       "        vertical-align: middle;\n",
       "    }\n",
       "\n",
       "    .dataframe tbody tr th {\n",
       "        vertical-align: top;\n",
       "    }\n",
       "\n",
       "    .dataframe thead th {\n",
       "        text-align: right;\n",
       "    }\n",
       "</style>\n",
       "<table border=\"1\" class=\"dataframe\">\n",
       "  <thead>\n",
       "    <tr style=\"text-align: right;\">\n",
       "      <th></th>\n",
       "      <th>source_node_id</th>\n",
       "      <th>destination_node_id</th>\n",
       "      <th>cost</th>\n",
       "    </tr>\n",
       "  </thead>\n",
       "  <tbody>\n",
       "    <tr>\n",
       "      <th>0</th>\n",
       "      <td>warehouse_california_1</td>\n",
       "      <td>store_california_1</td>\n",
       "      <td>0.029149</td>\n",
       "    </tr>\n",
       "    <tr>\n",
       "      <th>1</th>\n",
       "      <td>warehouse_california_1</td>\n",
       "      <td>store_california_2</td>\n",
       "      <td>0.517407</td>\n",
       "    </tr>\n",
       "    <tr>\n",
       "      <th>2</th>\n",
       "      <td>warehouse_california_1</td>\n",
       "      <td>store_california_3</td>\n",
       "      <td>0.526366</td>\n",
       "    </tr>\n",
       "    <tr>\n",
       "      <th>3</th>\n",
       "      <td>warehouse_california_1</td>\n",
       "      <td>store_california_4</td>\n",
       "      <td>0.537561</td>\n",
       "    </tr>\n",
       "    <tr>\n",
       "      <th>4</th>\n",
       "      <td>warehouse_california_1</td>\n",
       "      <td>store_california_5</td>\n",
       "      <td>0.521333</td>\n",
       "    </tr>\n",
       "  </tbody>\n",
       "</table>\n",
       "</div>"
      ],
      "text/plain": [
       "           source_node_id destination_node_id      cost\n",
       "0  warehouse_california_1  store_california_1  0.029149\n",
       "1  warehouse_california_1  store_california_2  0.517407\n",
       "2  warehouse_california_1  store_california_3  0.526366\n",
       "3  warehouse_california_1  store_california_4  0.537561\n",
       "4  warehouse_california_1  store_california_5  0.521333"
      ]
     },
     "execution_count": 1644,
     "metadata": {},
     "output_type": "execute_result"
    }
   ],
   "source": [
    "df_shipping.head()"
   ]
  }
 ],
 "metadata": {
  "kernelspec": {
   "display_name": "Python [conda env:churn-prediction-vertex-ai]",
   "language": "python",
   "name": "conda-env-churn-prediction-vertex-ai-py"
  },
  "language_info": {
   "codemirror_mode": {
    "name": "ipython",
    "version": 3
   },
   "file_extension": ".py",
   "mimetype": "text/x-python",
   "name": "python",
   "nbconvert_exporter": "python",
   "pygments_lexer": "ipython3",
   "version": "3.7.0"
  }
 },
 "nbformat": 4,
 "nbformat_minor": 5
}
