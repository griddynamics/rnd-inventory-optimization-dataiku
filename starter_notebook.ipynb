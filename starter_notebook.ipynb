{
 "cells": [
  {
   "cell_type": "code",
   "execution_count": null,
   "metadata": {},
   "outputs": [],
   "source": [
    "import pandas as pd\n",
    "\n",
    "from IPython.display import display_html\n",
    "from itertools import chain,cycle\n",
    "\n",
    "from inventory_optimisation_gd import pipeline"
   ]
  },
  {
   "cell_type": "code",
   "execution_count": null,
   "metadata": {},
   "outputs": [],
   "source": [
    "### Read the data using pandas\n",
    "\n",
    "demand_nodes_df = pd.read_csv('data/demand_nodes.csv')\n",
    "itemsets_df = pd.read_csv(\"data/itemsets.csv\")\n",
    "shipping_df = pd.read_csv(\"data/shipping.csv\")\n",
    "supply_nodes_df = pd.read_csv(\"data/supply_nodes.csv\")\n",
    "supply_df = pd.read_csv(\"data/supply.csv\")\n",
    "\n",
    "config = {'solver': {'solver': 'SCIP', 'mip_gap': 0.05, 'verbose': True}}\n"
   ]
  },
  {
   "cell_type": "code",
   "execution_count": null,
   "metadata": {},
   "outputs": [],
   "source": [
    "### insert data into solver pipeline\n",
    "solution = pipeline(\n",
    "    shipping_df, \n",
    "    itemsets_df, \n",
    "    supply_nodes_df, \n",
    "    supply_df, \n",
    "    demand_nodes_df,\n",
    "    config\n",
    "    )"
   ]
  },
  {
   "cell_type": "code",
   "execution_count": null,
   "metadata": {},
   "outputs": [],
   "source": [
    "solution.df_wearhouse_sku_qty"
   ]
  },
  {
   "cell_type": "code",
   "execution_count": null,
   "metadata": {},
   "outputs": [],
   "source": [
    "solution.df_wearhouse_store_qty"
   ]
  },
  {
   "cell_type": "code",
   "execution_count": null,
   "metadata": {},
   "outputs": [],
   "source": [
    "solution.df_wearhouse_sku_proc"
   ]
  },
  {
   "cell_type": "code",
   "execution_count": null,
   "metadata": {},
   "outputs": [],
   "source": [
    "solution.cost"
   ]
  }
 ],
 "metadata": {
  "kernelspec": {
   "display_name": "Python 3.8.5 ('base')",
   "language": "python",
   "name": "python3"
  },
  "language_info": {
   "codemirror_mode": {
    "name": "ipython",
    "version": 3
   },
   "file_extension": ".py",
   "mimetype": "text/x-python",
   "name": "python",
   "nbconvert_exporter": "python",
   "pygments_lexer": "ipython3",
   "version": "3.8.5"
  },
  "orig_nbformat": 4,
  "vscode": {
   "interpreter": {
    "hash": "40d3a090f54c6569ab1632332b64b2c03c39dcf918b08424e98f38b5ae0af88f"
   }
  }
 },
 "nbformat": 4,
 "nbformat_minor": 2
}
